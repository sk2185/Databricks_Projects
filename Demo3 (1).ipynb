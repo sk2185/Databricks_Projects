{
 "cells": [
  {
   "cell_type": "markdown",
   "metadata": {
    "application/vnd.databricks.v1+cell": {
     "cellMetadata": {},
     "inputWidgets": {},
     "nuid": "89d5c6af-0e41-4d97-af68-67efa356e242",
     "showTitle": false,
     "tableResultSettingsMap": {},
     "title": ""
    }
   },
   "source": [
    "**SETUP**"
   ]
  },
  {
   "cell_type": "code",
   "execution_count": 0,
   "metadata": {
    "application/vnd.databricks.v1+cell": {
     "cellMetadata": {},
     "inputWidgets": {},
     "nuid": "357813d5-f03f-4f77-bcec-093707a3026c",
     "showTitle": false,
     "tableResultSettingsMap": {},
     "title": ""
    }
   },
   "outputs": [],
   "source": [
    "%sql\n",
    "CREATE CATALOG IF NOT EXISTS qa\n",
    "MANAGED LOCATION 'abfss://unity-catalog-storage@dbstoragedlwvnba4d5k72.dfs.core.windows.net/2141168493853526';"
   ]
  },
  {
   "cell_type": "code",
   "execution_count": 0,
   "metadata": {
    "application/vnd.databricks.v1+cell": {
     "cellMetadata": {},
     "inputWidgets": {},
     "nuid": "9e515d00-9eea-457d-88e2-ea2cf22f91a2",
     "showTitle": false,
     "tableResultSettingsMap": {},
     "title": ""
    }
   },
   "outputs": [],
   "source": [
    "%sql\n",
    "CREATE CATALOG IF NOT EXISTS dev\n",
    "MANAGED LOCATION 'abfss://unity-catalog-storage@dbstoragedlwvnba4d5k72.dfs.core.windows.net/2141168493853526';"
   ]
  },
  {
   "cell_type": "code",
   "execution_count": 0,
   "metadata": {
    "application/vnd.databricks.v1+cell": {
     "cellMetadata": {},
     "inputWidgets": {},
     "nuid": "0096bf31-5146-409c-9f32-1eeefa950cb0",
     "showTitle": false,
     "tableResultSettingsMap": {},
     "title": ""
    }
   },
   "outputs": [],
   "source": [
    "%sql\n",
    "CREATE DATABASE IF NOT EXISTS dev.demo_db;\n",
    "CREATE DATABASE IF NOT EXISTS qa.demo_db;"
   ]
  },
  {
   "cell_type": "code",
   "execution_count": 0,
   "metadata": {
    "application/vnd.databricks.v1+cell": {
     "cellMetadata": {},
     "inputWidgets": {},
     "nuid": "55e632c5-baa4-4af5-9f26-258516386977",
     "showTitle": false,
     "tableResultSettingsMap": {},
     "title": ""
    }
   },
   "outputs": [],
   "source": [
    "%sql\n",
    "DROP DATABASE IF EXISTS dev.default CASCADE;"
   ]
  },
  {
   "cell_type": "code",
   "execution_count": 0,
   "metadata": {
    "application/vnd.databricks.v1+cell": {
     "cellMetadata": {
      "byteLimit": 2048000,
      "rowLimit": 10000
     },
     "inputWidgets": {},
     "nuid": "bf422b07-1ed1-4431-bbe5-643e412135ed",
     "showTitle": false,
     "tableResultSettingsMap": {},
     "title": ""
    }
   },
   "outputs": [],
   "source": [
    "flight_schema_ddl = \"\"\"FL_DATE DATE, OP_CARRIER STRING, OP_CARRIER_FL_NUM INT, ORIGIN STRING, \n",
    "          ORIGIN_CITY_NAME STRING, DEST STRING, DEST_CITY_NAME STRING, CRS_DEP_TIME INT, DEP_TIME INT, \n",
    "          WHEELS_ON INT, TAXI_IN INT, CRS_ARR_TIME INT, ARR_TIME INT, CANCELLED STRING, DISTANCE INT\"\"\"\n",
    "\n",
    "flight_time_df = (spark.read.format(\"json\")\n",
    "                    .schema(flight_schema_ddl)\n",
    "                    .option(\"dateFormat\", \"M/d/y\")\n",
    "                    .load(\"abfss://dbfs-container@storage.dfs.core.windows.net/external/flight-time\")\n",
    ")"
   ]
  },
  {
   "cell_type": "code",
   "execution_count": 0,
   "metadata": {
    "application/vnd.databricks.v1+cell": {
     "cellMetadata": {},
     "inputWidgets": {},
     "nuid": "18058d5e-a287-4395-a9c5-1a83cfba3b9c",
     "showTitle": false,
     "tableResultSettingsMap": {},
     "title": ""
    }
   },
   "outputs": [],
   "source": [
    "%sql\n",
    "CREATE TABLE IF NOT EXISTS dev.demo_db.flight_time_tbl (\n",
    "    FL_DATE DATE, \n",
    "    OP_CARRIER STRING, \n",
    "    OP_CARRIER_FL_NUM INT, \n",
    "    ORIGIN STRING, \n",
    "    ORIGIN_CITY_NAME STRING, \n",
    "    DEST STRING, \n",
    "    DEST_CITY_NAME STRING, \n",
    "    CRS_DEP_TIME INT, \n",
    "    DEP_TIME INT, \n",
    "    WHEELS_ON INT, \n",
    "    TAXI_IN INT, \n",
    "    CRS_ARR_TIME INT, \n",
    "    ARR_TIME INT, \n",
    "    CANCELLED STRING, \n",
    "    DISTANCE INT\n",
    ") USING DELTA"
   ]
  },
  {
   "cell_type": "markdown",
   "metadata": {
    "application/vnd.databricks.v1+cell": {
     "cellMetadata": {},
     "inputWidgets": {},
     "nuid": "d5e9eb29-8cdf-4ea3-b45d-af9e3357e163",
     "showTitle": false,
     "tableResultSettingsMap": {},
     "title": ""
    }
   },
   "source": [
    "**LOAD DATA INTO DELTA TABLE**"
   ]
  },
  {
   "cell_type": "code",
   "execution_count": 0,
   "metadata": {
    "application/vnd.databricks.v1+cell": {
     "cellMetadata": {},
     "inputWidgets": {},
     "nuid": "882099e6-38e8-4df6-9501-65117a172166",
     "showTitle": false,
     "tableResultSettingsMap": {},
     "title": ""
    }
   },
   "outputs": [],
   "source": [
    "flight_time_df.write.format(\"delta\").mode(\"append\").saveAsTable(\"dev.demo_db.flight_time_tbl\")"
   ]
  },
  {
   "cell_type": "code",
   "execution_count": 0,
   "metadata": {
    "application/vnd.databricks.v1+cell": {
     "cellMetadata": {},
     "inputWidgets": {},
     "nuid": "fe582737-4579-45dd-977e-03a605bc483c",
     "showTitle": false,
     "tableResultSettingsMap": {},
     "title": ""
    }
   },
   "outputs": [],
   "source": [
    "flight_time_tbl = spark.read.table(\"dev.demo_db.flight_time_tbl\")\n",
    "display(flight_time_tbl)"
   ]
  },
  {
   "cell_type": "markdown",
   "metadata": {
    "application/vnd.databricks.v1+cell": {
     "cellMetadata": {},
     "inputWidgets": {},
     "nuid": "b3ed1eb7-0f49-4101-bec4-18fc6e0fdd45",
     "showTitle": false,
     "tableResultSettingsMap": {},
     "title": ""
    }
   },
   "source": [
    "**CREATE A DELTA TABLE USING DELTATABLE API**"
   ]
  },
  {
   "cell_type": "code",
   "execution_count": 0,
   "metadata": {
    "application/vnd.databricks.v1+cell": {
     "cellMetadata": {},
     "inputWidgets": {},
     "nuid": "11cc76bf-173d-4d40-8169-eac2aa123872",
     "showTitle": false,
     "tableResultSettingsMap": {},
     "title": ""
    }
   },
   "outputs": [],
   "source": [
    "(spark.read\n",
    "    .format(\"delta\")\n",
    "    .load(\"abfss://dbfs-container@storage.dfs.core.windows.net/external/flight-time\")\n",
    "    .display()\n",
    ")\n",
    "\n",
    "\n",
    "\n",
    "from delta import DeltaTable\n",
    "\n",
    "(DeltaTable.createOrReplace(spark)\n",
    "    .tableName(\"dev.demo_db.flight_time_tbl\")\n",
    "    .addColumn(\"id\", \"INT\")\n",
    "    .addColumn(\"FL_DATE\", \"DATE\")\n",
    "    .addColumn(\"OP_CARRIER\", \"STRING\")\n",
    "    .addColumn(\"OP_CARRIER_FL_NUM\", \"INT\")\n",
    "    .addColumn(\"ORIGIN\", \"STRING\")\n",
    "    .addColumn(\"ORIGIN_CITY_NAME\", \"STRING\")\n",
    "    .addColumn(\"DEST\", \"STRING\") \n",
    "    .addColumn(\"DEST_CITY_NAME\", \"STRING\")\n",
    "    .addColumn(\"CRS_DEP_TIME\", \"INT\")\n",
    "    .addColumn(\"DEP_TIME\", \"INT\")\n",
    "    .addColumn(\"WHEELS_ON\", \"INT\")\n",
    "    .addColumn(\"TAXI_IN\", \"INT\")\n",
    "    .addColumn(\"CRS_ARR_TIME\", \"INT\")\n",
    "    .addColumn(\"ARR_TIME\", \"INT\")\n",
    "    .addColumn(\"CANCELLED\", \"STRING\")\n",
    "    .addColumn(\"DISTANCE\", \"INT\")\n",
    "    .execute()\n",
    ")"
   ]
  },
  {
   "cell_type": "code",
   "execution_count": 0,
   "metadata": {
    "application/vnd.databricks.v1+cell": {
     "cellMetadata": {},
     "inputWidgets": {},
     "nuid": "b6ff21af-cf16-4f41-ae6e-b31736e39cf6",
     "showTitle": false,
     "tableResultSettingsMap": {},
     "title": ""
    }
   },
   "outputs": [],
   "source": [
    "%sql\n",
    "select * from dev.demo_db.flight_time_tbl"
   ]
  },
  {
   "cell_type": "markdown",
   "metadata": {
    "application/vnd.databricks.v1+cell": {
     "cellMetadata": {},
     "inputWidgets": {},
     "nuid": "938ee33b-9f27-40ff-8ac3-2ffe4259dc20",
     "showTitle": false,
     "tableResultSettingsMap": {},
     "title": ""
    }
   },
   "source": [
    "**SAVE DELTA DATA IN EXTERNAL LOCATION**"
   ]
  },
  {
   "cell_type": "code",
   "execution_count": 0,
   "metadata": {
    "application/vnd.databricks.v1+cell": {
     "cellMetadata": {},
     "inputWidgets": {},
     "nuid": "7b506108-343f-492a-8630-4d4b7d32f331",
     "showTitle": false,
     "tableResultSettingsMap": {},
     "title": ""
    }
   },
   "outputs": [],
   "source": [
    "(flight_time_df.coalesce(1)\n",
    "    .write\n",
    "    .format(\"delta\")\n",
    "    .mode(\"overwrite\")\n",
    "    .save(\"abfss://dbfs-container@storage.dfs.core.windows.net/external/flight-time\")\n",
    ")"
   ]
  },
  {
   "cell_type": "code",
   "execution_count": 0,
   "metadata": {
    "application/vnd.databricks.v1+cell": {
     "cellMetadata": {},
     "inputWidgets": {},
     "nuid": "45bb0974-daaf-4fe3-9c31-abf934350321",
     "showTitle": false,
     "tableResultSettingsMap": {},
     "title": ""
    }
   },
   "outputs": [],
   "source": [
    "%fs ls abfss://dbfs-container@prashantsa.dfs.core.windows.net/external/flight-time"
   ]
  },
  {
   "cell_type": "markdown",
   "metadata": {
    "application/vnd.databricks.v1+cell": {
     "cellMetadata": {},
     "inputWidgets": {},
     "nuid": "fc3b69e3-7638-44bf-a717-43650ec18e75",
     "showTitle": false,
     "tableResultSettingsMap": {},
     "title": ""
    }
   },
   "source": [
    "**READ DELTA TABLE USING SQL AND DATAFRAME API**"
   ]
  },
  {
   "cell_type": "code",
   "execution_count": 0,
   "metadata": {
    "application/vnd.databricks.v1+cell": {
     "cellMetadata": {},
     "inputWidgets": {},
     "nuid": "06ac62c4-9144-4f37-9d7a-0426e64b1e46",
     "showTitle": false,
     "tableResultSettingsMap": {},
     "title": ""
    }
   },
   "outputs": [],
   "source": [
    "%sql\n",
    "select * from dev.demo_db.flight_time_tbl"
   ]
  },
  {
   "cell_type": "code",
   "execution_count": 0,
   "metadata": {
    "application/vnd.databricks.v1+cell": {
     "cellMetadata": {},
     "inputWidgets": {},
     "nuid": "a9d25557-4aeb-47d0-8dad-ab02728334c2",
     "showTitle": false,
     "tableResultSettingsMap": {},
     "title": ""
    }
   },
   "outputs": [],
   "source": [
    "spark.read.format(\"delta\").table(\"dev.demo_db.flight_time_tbl\").display()"
   ]
  },
  {
   "cell_type": "markdown",
   "metadata": {
    "application/vnd.databricks.v1+cell": {
     "cellMetadata": {},
     "inputWidgets": {},
     "nuid": "4aef2620-b77d-4739-871e-4f5232f3a9f8",
     "showTitle": false,
     "tableResultSettingsMap": {},
     "title": ""
    }
   },
   "source": [
    "**READ EXTERNAL DATA USING DATAFRAM API**"
   ]
  },
  {
   "cell_type": "code",
   "execution_count": 0,
   "metadata": {
    "application/vnd.databricks.v1+cell": {
     "cellMetadata": {},
     "inputWidgets": {},
     "nuid": "3cd80e1b-0e97-43fe-a76f-c6f93b5dd32d",
     "showTitle": false,
     "tableResultSettingsMap": {},
     "title": ""
    }
   },
   "outputs": [],
   "source": [
    "(spark.read\n",
    "    .format(\"delta\")\n",
    "    .load(\"abfss://dbfs-container@storage.dfs.core.windows.net/external/flight-time\")\n",
    "    .display()\n",
    ")"
   ]
  },
  {
   "cell_type": "markdown",
   "metadata": {
    "application/vnd.databricks.v1+cell": {
     "cellMetadata": {},
     "inputWidgets": {},
     "nuid": "aca707ca-e120-4018-9162-e79c0f8e713c",
     "showTitle": false,
     "tableResultSettingsMap": {},
     "title": ""
    }
   },
   "source": [
    "**DELETE ONE RECORD FROM TABLE USING DELTATABLE API**"
   ]
  },
  {
   "cell_type": "code",
   "execution_count": 0,
   "metadata": {
    "application/vnd.databricks.v1+cell": {
     "cellMetadata": {},
     "inputWidgets": {},
     "nuid": "85fda304-0c67-4f3b-8edd-542cb6fe12bf",
     "showTitle": false,
     "tableResultSettingsMap": {},
     "title": ""
    }
   },
   "outputs": [],
   "source": [
    "from delta import DeltaTable\n",
    "\n",
    "people_dt = DeltaTable.forName(spark, \"dev.demo_db.people\")\n",
    "people_dt.delete(\"firstName = 'abdul'\")"
   ]
  },
  {
   "cell_type": "markdown",
   "metadata": {
    "application/vnd.databricks.v1+cell": {
     "cellMetadata": {},
     "inputWidgets": {},
     "nuid": "8b79a4db-dd17-4cc0-8e30-3fcde284167b",
     "showTitle": false,
     "tableResultSettingsMap": {},
     "title": ""
    }
   },
   "source": [
    "**UPDATE ONE RECORD FROM TABLE USING DELTATABLE API**``"
   ]
  },
  {
   "cell_type": "code",
   "execution_count": 0,
   "metadata": {
    "application/vnd.databricks.v1+cell": {
     "cellMetadata": {},
     "inputWidgets": {},
     "nuid": "1bdecebf-432c-425a-810d-7f0224ab8f9c",
     "showTitle": false,
     "tableResultSettingsMap": {},
     "title": ""
    }
   },
   "outputs": [],
   "source": [
    "import pyspark.sql.functions as f\n",
    "people_dt.update(\n",
    "  condition = \"birthDate = '1975-05-25'\",\n",
    "  set = { \"firstName\": f.initcap(\"firstName\"), \"lastName\":  f.initcap(\"lastName\") }\n",
    ")"
   ]
  },
  {
   "cell_type": "code",
   "execution_count": 0,
   "metadata": {
    "application/vnd.databricks.v1+cell": {
     "cellMetadata": {},
     "inputWidgets": {},
     "nuid": "fa0f1b41-bffd-4192-b2d6-14c9142a0f56",
     "showTitle": false,
     "tableResultSettingsMap": {},
     "title": ""
    }
   },
   "outputs": [],
   "source": [
    "people_dt.toDF().display()  "
   ]
  },
  {
   "cell_type": "markdown",
   "metadata": {
    "application/vnd.databricks.v1+cell": {
     "cellMetadata": {},
     "inputWidgets": {},
     "nuid": "5044651e-0cbc-43bc-a7ae-bcf1af3d8720",
     "showTitle": false,
     "tableResultSettingsMap": {},
     "title": ""
    }
   },
   "source": [
    "**WE WILL LOOK INTO MERGE OPERATION LATER**"
   ]
  },
  {
   "cell_type": "code",
   "execution_count": 0,
   "metadata": {
    "application/vnd.databricks.v1+cell": {
     "cellMetadata": {},
     "inputWidgets": {},
     "nuid": "52db68ac-e7f3-4f19-b52f-ba57247202a5",
     "showTitle": false,
     "tableResultSettingsMap": {},
     "title": ""
    }
   },
   "outputs": [],
   "source": [
    "%sql\n",
    "merge into dev.demo_db.people tgt\n",
    "using (select id, fname as firstName, lname as lastName, dob as birthDate\n",
    "       from json.`/mnt/files/dataset_ch7/people.json`) src\n",
    "on tgt.id = src.id\n",
    "when matched and tgt.firstName = 'Kailash' then\n",
    "  delete\n",
    "when matched then\n",
    "  update set tgt.birthDate = src.birthDate\n",
    "when not matched then\n",
    "  insert *"
   ]
  },
  {
   "cell_type": "markdown",
   "metadata": {
    "application/vnd.databricks.v1+cell": {
     "cellMetadata": {},
     "inputWidgets": {},
     "nuid": "e7eddd95-26a1-40c0-9df4-14e120187f6a",
     "showTitle": false,
     "tableResultSettingsMap": {},
     "title": ""
    }
   },
   "source": [
    "**TIME TRAVEL**"
   ]
  },
  {
   "cell_type": "code",
   "execution_count": 0,
   "metadata": {
    "application/vnd.databricks.v1+cell": {
     "cellMetadata": {},
     "inputWidgets": {},
     "nuid": "3e5f60f4-1870-4480-813d-e2199edc4605",
     "showTitle": false,
     "tableResultSettingsMap": {},
     "title": ""
    }
   },
   "outputs": [],
   "source": [
    "%sql\n",
    "describe history dev.demo_db.people"
   ]
  },
  {
   "cell_type": "code",
   "execution_count": 0,
   "metadata": {
    "application/vnd.databricks.v1+cell": {
     "cellMetadata": {},
     "inputWidgets": {},
     "nuid": "c83cea41-233d-4296-ac53-a75bd6451c8d",
     "showTitle": false,
     "tableResultSettingsMap": {},
     "title": ""
    }
   },
   "outputs": [],
   "source": [
    "%sql\n",
    "select * from dev.demo_db.people version as of 1"
   ]
  },
  {
   "cell_type": "code",
   "execution_count": 0,
   "metadata": {
    "application/vnd.databricks.v1+cell": {
     "cellMetadata": {},
     "inputWidgets": {},
     "nuid": "8a26ffbe-1d25-48c0-94a6-3e46ad055aa0",
     "showTitle": false,
     "tableResultSettingsMap": {},
     "title": ""
    }
   },
   "outputs": [],
   "source": [
    "%sql\n",
    "select * from dev.demo_db.people timestamp as of '2023-12-16T05:12:50Z'"
   ]
  },
  {
   "cell_type": "markdown",
   "metadata": {
    "application/vnd.databricks.v1+cell": {
     "cellMetadata": {},
     "inputWidgets": {},
     "nuid": "1cafd705-af01-4dd9-b6de-ff60f8b93f08",
     "showTitle": false,
     "tableResultSettingsMap": {},
     "title": ""
    }
   },
   "source": [
    "**DELETE THE DELTA TABLE DATA BY MISTAKE**"
   ]
  },
  {
   "cell_type": "code",
   "execution_count": 0,
   "metadata": {
    "application/vnd.databricks.v1+cell": {
     "cellMetadata": {},
     "inputWidgets": {},
     "nuid": "6a763548-8a56-4fff-b428-3e730f6d98a8",
     "showTitle": false,
     "tableResultSettingsMap": {},
     "title": ""
    }
   },
   "outputs": [],
   "source": [
    "%sql\n",
    "delete from dev.demo_db.people"
   ]
  },
  {
   "cell_type": "markdown",
   "metadata": {
    "application/vnd.databricks.v1+cell": {
     "cellMetadata": {},
     "inputWidgets": {},
     "nuid": "72c9da5f-73ce-413d-b27f-7ce1ae9327fb",
     "showTitle": false,
     "tableResultSettingsMap": {},
     "title": ""
    }
   },
   "source": [
    "**ROLL BACK TO RESTORE**"
   ]
  },
  {
   "cell_type": "code",
   "execution_count": 0,
   "metadata": {
    "application/vnd.databricks.v1+cell": {
     "cellMetadata": {},
     "inputWidgets": {},
     "nuid": "640872ab-8e54-48fd-ab25-5c4c763ad005",
     "showTitle": false,
     "tableResultSettingsMap": {},
     "title": ""
    }
   },
   "outputs": [],
   "source": [
    "%sql\n",
    "describe history dev.demo_db.people"
   ]
  },
  {
   "cell_type": "code",
   "execution_count": 0,
   "metadata": {
    "application/vnd.databricks.v1+cell": {
     "cellMetadata": {},
     "inputWidgets": {},
     "nuid": "7fc3f839-f808-42cb-aa90-6d29ce4a6a0a",
     "showTitle": false,
     "tableResultSettingsMap": {},
     "title": ""
    }
   },
   "outputs": [],
   "source": [
    "%sql\n",
    "restore table dev.demo_db.people to timestamp as of '2023-12-16T05:14:39Z'"
   ]
  },
  {
   "cell_type": "markdown",
   "metadata": {
    "application/vnd.databricks.v1+cell": {
     "cellMetadata": {},
     "inputWidgets": {},
     "nuid": "20f2881a-043d-4221-89ab-0447448aeb56",
     "showTitle": false,
     "tableResultSettingsMap": {},
     "title": ""
    }
   },
   "source": [
    "**USING DATAFRAME API**"
   ]
  },
  {
   "cell_type": "code",
   "execution_count": 0,
   "metadata": {
    "application/vnd.databricks.v1+cell": {
     "cellMetadata": {},
     "inputWidgets": {},
     "nuid": "35de1612-1212-49ce-be52-d41bdc7c128f",
     "showTitle": false,
     "tableResultSettingsMap": {},
     "title": ""
    }
   },
   "outputs": [],
   "source": [
    "%python\n",
    "spark.read.option(\"versionAsOf\", \"1\").table(\"dev.demo_db.people\").display()"
   ]
  },
  {
   "cell_type": "code",
   "execution_count": 0,
   "metadata": {
    "application/vnd.databricks.v1+cell": {
     "cellMetadata": {},
     "inputWidgets": {},
     "nuid": "212ec725-fa26-4258-b3ee-9743e3e6d320",
     "showTitle": false,
     "tableResultSettingsMap": {},
     "title": ""
    }
   },
   "outputs": [],
   "source": [
    "%python\n",
    "spark.read.option(\"timestampAsOf\", \"2023-12-16T05:14:40Z\").table(\"dev.demo_db.people\").display()"
   ]
  },
  {
   "cell_type": "code",
   "execution_count": 0,
   "metadata": {
    "application/vnd.databricks.v1+cell": {
     "cellMetadata": {},
     "inputWidgets": {},
     "nuid": "3f904b41-b4a5-4b99-b276-751d8db58a81",
     "showTitle": false,
     "tableResultSettingsMap": {},
     "title": ""
    }
   },
   "outputs": [],
   "source": [
    "%python\n",
    "from delta import DeltaTable\n",
    "people_dt = DeltaTable.forName(spark, \"dev.demo_db.people\")\n",
    "people_dt.restoreToVersion(1)"
   ]
  },
  {
   "cell_type": "markdown",
   "metadata": {
    "application/vnd.databricks.v1+cell": {
     "cellMetadata": {},
     "inputWidgets": {},
     "nuid": "438a56eb-1278-496c-b8c0-6a5b6d42da1a",
     "showTitle": false,
     "tableResultSettingsMap": {},
     "title": ""
    }
   },
   "source": [
    "**CONVERT PARQUET TO DELTA**"
   ]
  },
  {
   "cell_type": "code",
   "execution_count": 0,
   "metadata": {
    "application/vnd.databricks.v1+cell": {
     "cellMetadata": {},
     "inputWidgets": {},
     "nuid": "f58baadf-b895-46cd-b080-df5ac4372f53",
     "showTitle": false,
     "tableResultSettingsMap": {},
     "title": ""
    }
   },
   "outputs": [],
   "source": [
    "raw_df = (spark.read\n",
    "            .format(\"csv\")\n",
    "            .option(\"header\", \"true\")\n",
    "            .option(\"inferSchema\",\"true\")\n",
    "            .load(\"/databricks-datasets/learning-spark-v2/sf-fire/sf-fire-calls.csv\")\n",
    ")\n",
    "\n",
    "from pyspark.sql.functions import to_date, to_timestamp, round, year\n",
    "staging_df = (raw_df.withColumnRenamed(\"Call Number\", \"CallNumber\")\n",
    "                    .withColumnRenamed(\"Unit ID\", \"UnitID\")\n",
    "                    .withColumnRenamed(\"Incident Number\", \"IncidentNumber\")\n",
    "                    .withColumnRenamed(\"Call Date\", \"CallDate\")\n",
    "                    .withColumnRenamed(\"Watch Date\", \"WatchDate\")\n",
    "                    .withColumnRenamed(\"Call Final Disposition\", \"CallFinalDisposition\")\n",
    "                    .withColumnRenamed(\"Available DtTm\", \"AvailableDtTm\")\n",
    "                    .withColumnRenamed(\"Zipcode of Incident\", \"Zipcode\")\n",
    "                    .withColumnRenamed(\"Station Area\", \"StationArea\")\n",
    "                    .withColumnRenamed(\"Final Priority\", \"FinalPriority\")\n",
    "                    .withColumnRenamed(\"ALS Unit\", \"ALSUnit\")\n",
    "                    .withColumnRenamed(\"Call Type Group\", \"CallTypeGroup\")\n",
    "                    .withColumnRenamed(\"Unit sequence in call dispatch\", \"UnitSequenceInCallDispatch\")\n",
    "                    .withColumnRenamed(\"Fire Prevention District\", \"FirePreventionDistrict\")\n",
    "                    .withColumnRenamed(\"Supervisor District\", \"SupervisorDistrict\")\n",
    "                    .withColumn(\"CallDate\", to_date(\"CallDate\", \"MM/dd/yyyy\"))\n",
    "                    .withColumn(\"WatchDate\", to_date(\"WatchDate\", \"MM/dd/yyyy\"))\n",
    "                    .withColumn(\"AvailableDtTm\", to_timestamp(\"AvailableDtTm\", \"MM/dd/yyyy hh:mm:ss a\"))\n",
    "                    .withColumn(\"Delay\", round(\"Delay\", 2))\n",
    "                    .withColumn(\"Year\", year(\"CallDate\"))\n",
    ")\n",
    "\n",
    "(staging_df.write\n",
    "        .format(\"parquet\")\n",
    "        .mode(\"overwrite\")\n",
    "        .partitionBy(\"Year\")\n",
    "        .save(\"/Volumes/dev/demo_db/files/fire_calls_tbl\")\n",
    ")"
   ]
  },
  {
   "cell_type": "code",
   "execution_count": 0,
   "metadata": {
    "application/vnd.databricks.v1+cell": {
     "cellMetadata": {},
     "inputWidgets": {},
     "nuid": "df164031-6a5b-447a-9935-247d4d85a5cb",
     "showTitle": false,
     "tableResultSettingsMap": {},
     "title": ""
    }
   },
   "outputs": [],
   "source": [
    "%fs ls /Volumes/dev/demo_db/files/fire_calls_tbl"
   ]
  },
  {
   "cell_type": "code",
   "execution_count": 0,
   "metadata": {
    "application/vnd.databricks.v1+cell": {
     "cellMetadata": {},
     "inputWidgets": {},
     "nuid": "3e367c79-6f29-46f7-bda3-5500e23730a4",
     "showTitle": false,
     "tableResultSettingsMap": {},
     "title": ""
    }
   },
   "outputs": [],
   "source": [
    "%sql\n",
    "convert to delta parquet.`/Volumes/dev/demo_db/files/fire_calls_tbl`\n",
    "partitioned by (Year int)"
   ]
  },
  {
   "cell_type": "code",
   "execution_count": 0,
   "metadata": {
    "application/vnd.databricks.v1+cell": {
     "cellMetadata": {},
     "inputWidgets": {},
     "nuid": "d61dc7b5-1c3d-49dd-b985-871534e24734",
     "showTitle": false,
     "tableResultSettingsMap": {},
     "title": ""
    }
   },
   "outputs": [],
   "source": [
    "%sql\n",
    "describe history delta.`/Volumes/dev/demo_db/files/fire_calls_tbl`"
   ]
  },
  {
   "cell_type": "code",
   "execution_count": 0,
   "metadata": {
    "application/vnd.databricks.v1+cell": {
     "cellMetadata": {},
     "inputWidgets": {},
     "nuid": "3141b3d9-d2ba-4c25-954f-7ac9c16da587",
     "showTitle": false,
     "tableResultSettingsMap": {},
     "title": ""
    }
   },
   "outputs": [],
   "source": [
    "%sql\n",
    "DESCRIBE EXTENDED dev3.demodb.olist_geolocation_dataset"
   ]
  },
  {
   "cell_type": "markdown",
   "metadata": {
    "application/vnd.databricks.v1+cell": {
     "cellMetadata": {},
     "inputWidgets": {},
     "nuid": "9b3668de-e3af-4c1f-b0d1-b7ade15f17bd",
     "showTitle": false,
     "tableResultSettingsMap": {},
     "title": ""
    }
   },
   "source": [
    "%md\n",
    "**SCHEMA VALIDATION INSERING DATA INTO EXISTING TABLE, INSERT, OVERWRITE, MERGE**"
   ]
  },
  {
   "cell_type": "markdown",
   "metadata": {
    "application/vnd.databricks.v1+cell": {
     "cellMetadata": {},
     "inputWidgets": {},
     "nuid": "eb40ce03-2bb0-4c34-a485-6360444f2f5f",
     "showTitle": false,
     "tableResultSettingsMap": {},
     "title": ""
    }
   },
   "source": [
    "Schema Validations\n",
    "Statements\n",
    "  1. INSERT\n",
    "  2. OVERWRITE\n",
    "  3. MERGE\n",
    "  4. DataFrame Append\n",
    "\n",
    "Validation Scenarions\n",
    "\n",
    "  1. Column matching approach\n",
    "  2. New Columns\n",
    "  3. Data Type Mismatch (Not allowed in any case)"
   ]
  },
  {
   "cell_type": "markdown",
   "metadata": {
    "application/vnd.databricks.v1+cell": {
     "cellMetadata": {},
     "inputWidgets": {},
     "nuid": "f6738450-6b37-41a7-9b4c-428c06e95880",
     "showTitle": false,
     "tableResultSettingsMap": {},
     "title": ""
    }
   },
   "source": [
    "Schema Validations Summary\n",
    "\n",
    "  1. INSERT         - Column matching by position, New columns not allowed\n",
    "  2. OVERWRITE      - Column matching by position, New columns not allowed\n",
    "  3. MERGE INSERT     - Column matching by name, New columns ignored\n",
    "  4. DataFrame Append   - Column matching by name, New columns not allowed\n",
    "  5. Data Type Mismatch  - Not allowed in any case"
   ]
  },
  {
   "cell_type": "markdown",
   "metadata": {
    "application/vnd.databricks.v1+cell": {
     "cellMetadata": {},
     "inputWidgets": {},
     "nuid": "7bf9e58e-f138-428b-8c95-be832ffac5f5",
     "showTitle": false,
     "tableResultSettingsMap": {},
     "title": ""
    }
   },
   "source": [
    "#####1. INSERT - Column matching by position (matching names not mandatory)\n",
    "This has a potential to corrupt your data"
   ]
  },
  {
   "cell_type": "code",
   "execution_count": 0,
   "metadata": {
    "application/vnd.databricks.v1+cell": {
     "cellMetadata": {},
     "inputWidgets": {},
     "nuid": "952cf1d1-a4d1-43f8-bae7-afa4310813e5",
     "showTitle": false,
     "tableResultSettingsMap": {},
     "title": ""
    }
   },
   "outputs": [],
   "source": [
    "%sql\n",
    "INSERT INTO dev.demo_db.people_tbl\n",
    "SELECT id, fname, lname\n",
    "FROM json.`/mnt/files/dataset_ch7/people.json`"
   ]
  },
  {
   "cell_type": "markdown",
   "metadata": {
    "application/vnd.databricks.v1+cell": {
     "cellMetadata": {},
     "inputWidgets": {},
     "nuid": "cb2d5eb9-814f-4032-a7aa-a1b074104c91",
     "showTitle": false,
     "tableResultSettingsMap": {},
     "title": ""
    }
   },
   "source": [
    "#####2. INSERT - New columns not allowed"
   ]
  },
  {
   "cell_type": "code",
   "execution_count": 0,
   "metadata": {
    "application/vnd.databricks.v1+cell": {
     "cellMetadata": {},
     "inputWidgets": {},
     "nuid": "abf7ddd4-d5ba-4dd1-9bc9-398929191f0d",
     "showTitle": false,
     "tableResultSettingsMap": {},
     "title": ""
    }
   },
   "outputs": [],
   "source": [
    "%sql\n",
    "INSERT INTO dev.demo_db.people_tbl\n",
    "SELECT id, fname, lname, dob\n",
    "FROM json.`/mnt/files/dataset_ch7/people.json`"
   ]
  },
  {
   "cell_type": "markdown",
   "metadata": {
    "application/vnd.databricks.v1+cell": {
     "cellMetadata": {},
     "inputWidgets": {},
     "nuid": "7118c11c-3468-47a1-8b32-d5ded94122eb",
     "showTitle": false,
     "tableResultSettingsMap": {},
     "title": ""
    }
   },
   "source": [
    "#####3. OVERWRITE - New columns not allowed"
   ]
  },
  {
   "cell_type": "code",
   "execution_count": 0,
   "metadata": {
    "application/vnd.databricks.v1+cell": {
     "cellMetadata": {},
     "inputWidgets": {},
     "nuid": "81cdfb72-9e3d-4ea1-bee9-99500efd9cf1",
     "showTitle": false,
     "tableResultSettingsMap": {},
     "title": ""
    }
   },
   "outputs": [],
   "source": [
    "%sql\n",
    "INSERT OVERWRITE dev.demo_db.people_tbl\n",
    "SELECT id, fname, lname, dob\n",
    "FROM json.`/mnt/files/dataset_ch7/people.json`"
   ]
  },
  {
   "cell_type": "markdown",
   "metadata": {
    "application/vnd.databricks.v1+cell": {
     "cellMetadata": {},
     "inputWidgets": {},
     "nuid": "df3372d2-3717-42b6-8751-9ebd6620088f",
     "showTitle": false,
     "tableResultSettingsMap": {},
     "title": ""
    }
   },
   "source": [
    "#####4. MERGE - Column matching by name (matching by position not allowed)"
   ]
  },
  {
   "cell_type": "code",
   "execution_count": 0,
   "metadata": {
    "application/vnd.databricks.v1+cell": {
     "cellMetadata": {},
     "inputWidgets": {},
     "nuid": "e637b501-8693-4928-91a7-5945b782adff",
     "showTitle": false,
     "tableResultSettingsMap": {},
     "title": ""
    }
   },
   "outputs": [],
   "source": [
    "%sql\n",
    "SELECT id, fname, lname FROM json.`/mnt/files/dataset_ch7/people_2.json`"
   ]
  },
  {
   "cell_type": "code",
   "execution_count": 0,
   "metadata": {
    "application/vnd.databricks.v1+cell": {
     "cellMetadata": {},
     "inputWidgets": {},
     "nuid": "34810350-034f-4fcb-90dd-0bffa339d9c5",
     "showTitle": false,
     "tableResultSettingsMap": {},
     "title": ""
    }
   },
   "outputs": [],
   "source": [
    "%sql\n",
    "MERGE INTO dev.demo_db.people_tbl tgt\n",
    "USING (SELECT id, fname, lname FROM json.`/mnt/files/dataset_ch7/people_2.json`) src\n",
    "ON tgt.id = src.id\n",
    "WHEN NOT MATCHED THEN\n",
    "    INSERT *  "
   ]
  },
  {
   "cell_type": "markdown",
   "metadata": {
    "application/vnd.databricks.v1+cell": {
     "cellMetadata": {},
     "inputWidgets": {},
     "nuid": "d371f074-c86f-4628-80e9-8eecb5f6065d",
     "showTitle": false,
     "tableResultSettingsMap": {},
     "title": ""
    }
   },
   "source": [
    "#####5. MERGE - New columns silently ignored"
   ]
  },
  {
   "cell_type": "code",
   "execution_count": 0,
   "metadata": {
    "application/vnd.databricks.v1+cell": {
     "cellMetadata": {},
     "inputWidgets": {},
     "nuid": "490bb411-2ae9-4c23-bab9-6da581a9788f",
     "showTitle": false,
     "tableResultSettingsMap": {},
     "title": ""
    }
   },
   "outputs": [],
   "source": [
    "%sql\n",
    "SELECT id, fname firstName, lname lastName, dob FROM json.`/mnt/files/dataset_ch7/people_2.json`"
   ]
  },
  {
   "cell_type": "code",
   "execution_count": 0,
   "metadata": {
    "application/vnd.databricks.v1+cell": {
     "cellMetadata": {},
     "inputWidgets": {},
     "nuid": "b1c1b6cd-b5e5-4cef-ab3f-621e4579cce1",
     "showTitle": false,
     "tableResultSettingsMap": {},
     "title": ""
    }
   },
   "outputs": [],
   "source": [
    "%sql\n",
    "MERGE INTO dev.demo_db.people_tbl tgt\n",
    "USING (SELECT id, fname firstName, lname lastName, dob FROM json.`/mnt/files/dataset_ch7/people_2.json`) src\n",
    "ON tgt.id = src.id\n",
    "WHEN NOT MATCHED THEN\n",
    "    INSERT *"
   ]
  },
  {
   "cell_type": "code",
   "execution_count": 0,
   "metadata": {
    "application/vnd.databricks.v1+cell": {
     "cellMetadata": {},
     "inputWidgets": {},
     "nuid": "044baf47-9546-4d0b-8e62-57e6662111ba",
     "showTitle": false,
     "tableResultSettingsMap": {},
     "title": ""
    }
   },
   "outputs": [],
   "source": [
    "%sql\n",
    "select * from dev.demo_db.people_tbl"
   ]
  },
  {
   "cell_type": "markdown",
   "metadata": {
    "application/vnd.databricks.v1+cell": {
     "cellMetadata": {},
     "inputWidgets": {},
     "nuid": "8f32b174-cca3-4801-b54c-548537dfad6c",
     "showTitle": false,
     "tableResultSettingsMap": {},
     "title": ""
    }
   },
   "source": [
    "#####6. Dataframe append - Column matching by name (matching by position not allowed)"
   ]
  },
  {
   "cell_type": "code",
   "execution_count": 0,
   "metadata": {
    "application/vnd.databricks.v1+cell": {
     "cellMetadata": {},
     "inputWidgets": {},
     "nuid": "b2f986d3-ba64-4cb1-addf-e3902a296f9b",
     "showTitle": false,
     "tableResultSettingsMap": {},
     "title": ""
    }
   },
   "outputs": [],
   "source": [
    "%python\n",
    "people_schema = \"id INT, fname STRING, lname STRING\"\n",
    "people_df =  spark.read.format(\"json\").schema(people_schema).load(\"/mnt/files/dataset_ch7/people_2.json\")\n",
    "people_df.write.format(\"delta\").mode(\"append\").saveAsTable(\"dev.demo_db.people_tbl\")"
   ]
  },
  {
   "cell_type": "markdown",
   "metadata": {
    "application/vnd.databricks.v1+cell": {
     "cellMetadata": {},
     "inputWidgets": {},
     "nuid": "776f646a-fa9e-4bf1-97c2-28e5349c110e",
     "showTitle": false,
     "tableResultSettingsMap": {},
     "title": ""
    }
   },
   "source": [
    "#####7. Dataframe append - New columns not allowed"
   ]
  },
  {
   "cell_type": "code",
   "execution_count": 0,
   "metadata": {
    "application/vnd.databricks.v1+cell": {
     "cellMetadata": {},
     "inputWidgets": {},
     "nuid": "f929ef68-582d-4d6a-bac0-be5d8818a74b",
     "showTitle": false,
     "tableResultSettingsMap": {},
     "title": ""
    }
   },
   "outputs": [],
   "source": [
    "%python\n",
    "people_schema = \"id INT, firstName STRING, lastName STRING, dob STRING\"\n",
    "people_df =  spark.read.format(\"json\").schema(people_schema).load(\"/mnt/files/dataset_ch7/people_2.json\")\n",
    "people_df.write.format(\"delta\").mode(\"append\").saveAsTable(\"dev.demo_db.people_tbl\")"
   ]
  }
 ],
 "metadata": {
  "application/vnd.databricks.v1+notebook": {
   "computePreferences": null,
   "dashboards": [],
   "environmentMetadata": {
    "base_environment": "",
    "environment_version": "2"
   },
   "inputWidgetPreferences": null,
   "language": "python",
   "notebookMetadata": {
    "pythonIndentUnit": 4
   },
   "notebookName": "Demo3 (1)",
   "widgets": {}
  },
  "language_info": {
   "name": "python"
  }
 },
 "nbformat": 4,
 "nbformat_minor": 0
}
